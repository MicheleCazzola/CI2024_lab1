{
 "cells": [
  {
   "cell_type": "markdown",
   "metadata": {},
   "source": [
    "Copyright **`(c)`** 2024 Giovanni Squillero `<giovanni.squillero@polito.it>`  \n",
    "[`https://github.com/squillero/computational-intelligence`](https://github.com/squillero/computational-intelligence)  \n",
    "Free for personal or classroom use; see [`LICENSE.md`](https://github.com/squillero/computational-intelligence/blob/master/LICENSE.md) for details.  "
   ]
  },
  {
   "cell_type": "markdown",
   "metadata": {},
   "source": [
    "# Set Cover problem\n",
    "\n",
    "See: https://en.wikipedia.org/wiki/Set_cover_problem"
   ]
  },
  {
   "cell_type": "markdown",
   "metadata": {},
   "source": [
    "## Results\n",
    "|Instance|Universe size|Number of sets|Density|Number of steps to reach solution|Cost|\n",
    "|:--:|:--:  |:--: |:--:|:--: |:--:      |\n",
    "|1   |100   |10   |0.2 |29   |283.75    |\n",
    "|2   |1000  |100  |0.2 |203  |7100.83   |\n",
    "|3   |10000 |1000 |0.2 |4221 |128865.88 |\n",
    "|4   |100000|10000|0.1 |55700|1882996.59|\n",
    "|5   |100000|10000|0.2 |56901|2154916.13|\n",
    "|6   |100000|10000|0.3 |71591|2187407.29|"
   ]
  },
  {
   "cell_type": "markdown",
   "metadata": {},
   "source": [
    "## Definitive solution\n",
    "Speedup is required.\n",
    "They are used:\n",
    "- single mutation tweak\n",
    "- data structure to keep track of number of sets covering each element\n",
    "- heuristic to limit research space\n",
    "- random start"
   ]
  },
  {
   "cell_type": "markdown",
   "metadata": {},
   "source": [
    "### Collaborations\n",
    "Following parts:\n",
    "- tweak function\n",
    "- fitness plot\n",
    "\n",
    "done in collaboration with Vincenzo Avantaggiato"
   ]
  },
  {
   "cell_type": "markdown",
   "metadata": {},
   "source": [
    "### Other strategies\n",
    "Other strategies have been tried, in general they are good, but too slow.\n",
    "\n",
    "They are shown in *strategies.ipynb*"
   ]
  },
  {
   "cell_type": "markdown",
   "metadata": {},
   "source": [
    "### Imports"
   ]
  },
  {
   "cell_type": "code",
   "execution_count": null,
   "metadata": {},
   "outputs": [],
   "source": [
    "from random import random, seed\n",
    "from itertools import product, accumulate\n",
    "import numpy as np\n",
    "from tqdm.auto import tqdm\n",
    "import matplotlib.pyplot as plt\n",
    "\n",
    "from icecream import ic"
   ]
  },
  {
   "cell_type": "markdown",
   "metadata": {},
   "source": [
    "### Data"
   ]
  },
  {
   "cell_type": "code",
   "execution_count": 80,
   "metadata": {},
   "outputs": [],
   "source": [
    "universe_sizes = [100, 1000, 10_000, 100_000, 100_000, 100_000]\n",
    "num_sets_sizes = [10, 100, 1000, 10_000, 10_000, 10_000]\n",
    "densities = [.2, .2, .2, .1, .2, .3]\n",
    "\n",
    "INIT_DENSITY = 0.5"
   ]
  },
  {
   "cell_type": "markdown",
   "metadata": {},
   "source": [
    "#### Generator function"
   ]
  },
  {
   "cell_type": "code",
   "execution_count": 81,
   "metadata": {},
   "outputs": [],
   "source": [
    "def generate_data(universe_size, num_sets, density):\n",
    "    SETS = np.random.random((num_sets, universe_size)) < density\n",
    "    for s in range(universe_size):\n",
    "        if not np.any(SETS[:, s]):\n",
    "            SETS[np.random.randint(num_sets), s] = True\n",
    "    COSTS = np.pow(SETS.sum(axis=1), 1.1)\n",
    "    \n",
    "    return SETS, COSTS"
   ]
  },
  {
   "cell_type": "markdown",
   "metadata": {},
   "source": [
    "### Helper functions"
   ]
  },
  {
   "cell_type": "code",
   "execution_count": 82,
   "metadata": {},
   "outputs": [],
   "source": [
    "def init_sol(num_sets: int) -> np.ndarray:\n",
    "    solution = np.random.random(num_sets) < INIT_DENSITY\n",
    "    \n",
    "    return solution\n",
    "\n",
    "def valid(sets, solution):\n",
    "    \"\"\"Checks wether solution is valid (ie. covers all universe)\"\"\"\n",
    "    phenotype = np.logical_or.reduce(sets[solution])     # at least each element covered by a set\n",
    "    return np.all(phenotype)                             # all elements are covered\n",
    "\n",
    "def coverage(sets, solution):\n",
    "    \"\"\"Returns the number of covered elements in the universe\"\"\"\n",
    "    phenotype = np.logical_or.reduce(sets[solution])    # at least each element covered by a set\n",
    "    return np.sum(phenotype)                            # number of covered elements    \n",
    "\n",
    "def cost(costs, solution):\n",
    "    \"\"\"Returns the cost of a solution (to be minimized)\"\"\"\n",
    "    return costs[solution].sum()\n",
    "\n",
    "def fitness(covering: np.ndarray, costs: np.ndarray, solution: np.ndarray):\n",
    "    \"\"\"Returns the fitness of the given solution\"\"\"\n",
    "    return (np.sum(covering > 0), -cost(costs, solution))\n",
    "\n",
    "# Based on Vincenzo Avantaggiato's version\n",
    "def tweak(solution: np.ndarray, covering: np.ndarray, sets: np.ndarray) -> np.ndarray:\n",
    "    \"\"\"Uses a single mutation method\"\"\"\n",
    "    \n",
    "    new_sol = solution.copy()\n",
    "    \n",
    "    index = np.random.randint(0, solution.shape[0])    \n",
    "    new_sol[index] = not new_sol[index]\n",
    "    \n",
    "    modification = 2*new_sol[index]-1\n",
    "    \n",
    "    # Rollbacks the modification (if it is a removal): not allowed to remove a set from the solution\n",
    "    # if its removal causes an element to become uncovered\n",
    "    if modification == -1 and np.sum(covering[sets[index]] <= 1):\n",
    "        return solution\n",
    "        \n",
    "    # Store the number of sets covering each element in the universe\n",
    "    covering += modification * sets[index]\n",
    "    \n",
    "    \"\"\"\n",
    "    mask = np.random.random(solution.shape[0])\n",
    "    \n",
    "    new_sol = np.logical_xor(solution, mask)\n",
    "    \n",
    "    # Get value of previous solutions whose value changed from 1 to 0\n",
    "    removed = np.logical_and(solution, mask)\n",
    "    \n",
    "    # Get value of previous solutions whose value changed from 0 to 1\n",
    "    added = np.logical_and(np.logical_not(solution), mask)\n",
    "    \n",
    "    removed_mask = np.sum(np.logical_and(sets, removed.reshape(removed.shape[0], 1)), axis=0)\n",
    "    \n",
    "    if np.any(np.sum(covering[removed_mask] <= 1, axis=0)):\n",
    "        return solution\n",
    "    \n",
    "    covering += np.sum(np.logical_and(sets, added.reshape(added.shape[0], 1)), axis=0)\n",
    "    covering -= removed_mask\n",
    "    \"\"\"\n",
    "    return new_sol"
   ]
  },
  {
   "cell_type": "code",
   "execution_count": 83,
   "metadata": {},
   "outputs": [],
   "source": [
    "def solve_set_cover(sets: np.ndarray, costs: np.ndarray, num_steps: int = 10_000, buf_size: int = 5, init_strength: float = 0.5):\n",
    "    \n",
    "    num_sets = sets.shape[0]\n",
    "    universe_size = sets.shape[1]\n",
    "    \n",
    "    solution = init_sol(num_sets)\n",
    "    best_cov = np.sum(sets[solution], axis=0)\n",
    "    sol_fitness = fitness(best_cov, costs, solution)\n",
    "    history = [float(sol_fitness[1])]\n",
    "    \n",
    "    # Initially, first valid index is 0 if starting solution is valid , otherwise it is -1\n",
    "    first_valid = int(sol_fitness[0] == universe_size) - 1\n",
    "    for i in tqdm(range(num_steps)):\n",
    "        curr_cov = best_cov.copy()\n",
    "        current = tweak(solution.copy(), curr_cov, sets)\n",
    "        \n",
    "        curr_fitness = fitness(curr_cov, costs, current)\n",
    "        history.append(float(curr_fitness[1]))\n",
    "        \n",
    "        # Mark current index as first valid (index 0 is the initial solution)\n",
    "        first_valid = i+1 if curr_fitness[0] == universe_size and first_valid == -1 else first_valid\n",
    "        \n",
    "        if curr_fitness > sol_fitness:\n",
    "            sol_fitness = curr_fitness\n",
    "            solution = current\n",
    "            best_cov = curr_cov\n",
    "            \n",
    "    ic(first_valid)\n",
    "    steps_sol = history.index(float(sol_fitness[1]))\n",
    "    \n",
    "    ic(sol_fitness)\n",
    "    ic(steps_sol)\n",
    "    \n",
    "    plt.figure(figsize=(14,8))\n",
    "    plt.plot(\n",
    "        range(first_valid),\n",
    "        list(np.full(first_valid, history[first_valid])),\n",
    "        color=\"red\",\n",
    "        linestyle=\"--\"\n",
    "    )\n",
    "    plt.plot(\n",
    "        range(first_valid, len(history)),\n",
    "        list(accumulate(history[first_valid :], max)),\n",
    "        color=\"red\",\n",
    "    )\n",
    "    plt.scatter(range(len(history)), history, marker=\".\", color=\"blue\")\n",
    "    \n",
    "    return solution, sol_fitness, steps_sol\n",
    "    "
   ]
  },
  {
   "cell_type": "markdown",
   "metadata": {},
   "source": [
    "### Greedy approach\n",
    "For each iteration, we collect the set that covers the larger number of still uncovered elements. The iterations continue until complete universe coverage is reached."
   ]
  },
  {
   "cell_type": "code",
   "execution_count": 84,
   "metadata": {},
   "outputs": [],
   "source": [
    "def solve_greedy(sets: np.ndarray, costs: np.ndarray, num_sets) -> np.ndarray:\n",
    "    \n",
    "    solution = np.full(num_sets, False)\n",
    "    set_matrix = sets.copy()\n",
    "    covered = 0\n",
    "\n",
    "    while covered < set_matrix.shape[1]:\n",
    "        \n",
    "        progress = 100 * covered / set_matrix.shape[1]\n",
    "        print(float(progress), end=\" \")\n",
    "        \n",
    "        largest_index = np.argmax(set_matrix.sum(axis=1))\n",
    "        largest = set_matrix[largest_index, :]\n",
    "        solution[largest_index] = True\n",
    "        covered += largest.sum()\n",
    "        \n",
    "        # For each row of the matrix, set to False the corresponding column if the cell of the \"largest\" vector is True\n",
    "        # Given the vector corresponding to the coverings for the larger set (to collect),\n",
    "        # it removes all possible coverings for those elements covered by this set,\n",
    "        # in order to ignore them in next steps\n",
    "        set_matrix *= np.logical_not(largest)\n",
    "                \n",
    "    print()\n",
    "    \n",
    "    sol_fitness = fitness(np.sum(sets[solution], axis=0), costs, solution)\n",
    "    \n",
    "    return solution, sol_fitness"
   ]
  },
  {
   "cell_type": "markdown",
   "metadata": {},
   "source": [
    "#### Solver caller\n",
    "Calls solve function for each required instance. "
   ]
  },
  {
   "cell_type": "code",
   "execution_count": null,
   "metadata": {},
   "outputs": [],
   "source": [
    "NUM_INSTANCES = len(universe_sizes)\n",
    "\n",
    "# Useful for debugging\n",
    "MIN_INSTANCE = 1\n",
    "MAX_INSTANCE = NUM_INSTANCES\n",
    "\n",
    "for (i, (universe_size, num_sets, density)) in \\\n",
    "    list(enumerate(zip(universe_sizes, num_sets_sizes, densities))) [MIN_INSTANCE-1 : MAX_INSTANCE]:\n",
    "\n",
    "    ic(f\"Generating instance {i+1}\")\n",
    "\n",
    "    sets, costs = generate_data(universe_size, num_sets, density)\n",
    "    \n",
    "    num_steps = 100_000 if i > 2 else (10_000 if i == 2 else 1000)\n",
    "\n",
    "    ic(f\"Solving instance {i+1}\")\n",
    "    \n",
    "    solution, (sol_state, sol_fitness), sol_steps = solve_set_cover(sets, costs, num_steps=num_steps)\n",
    "    greedy_sol, (greedy_state, greedy_fitness) = solve_greedy(sets, costs, num_sets)\n",
    "    \n",
    "    ic(sol_state, sol_fitness)\n",
    "    ic(greedy_state, greedy_fitness)\n",
    "    "
   ]
  }
 ],
 "metadata": {
  "kernelspec": {
   "display_name": "venv",
   "language": "python",
   "name": "python3"
  },
  "language_info": {
   "codemirror_mode": {
    "name": "ipython",
    "version": 3
   },
   "file_extension": ".py",
   "mimetype": "text/x-python",
   "name": "python",
   "nbconvert_exporter": "python",
   "pygments_lexer": "ipython3",
   "version": "3.11.8"
  }
 },
 "nbformat": 4,
 "nbformat_minor": 4
}
