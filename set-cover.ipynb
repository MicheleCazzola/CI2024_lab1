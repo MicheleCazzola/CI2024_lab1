{
 "cells": [
  {
   "cell_type": "markdown",
   "metadata": {},
   "source": [
    "Copyright **`(c)`** 2024 Giovanni Squillero `<giovanni.squillero@polito.it>`  \n",
    "[`https://github.com/squillero/computational-intelligence`](https://github.com/squillero/computational-intelligence)  \n",
    "Free for personal or classroom use; see [`LICENSE.md`](https://github.com/squillero/computational-intelligence/blob/master/LICENSE.md) for details.  "
   ]
  },
  {
   "cell_type": "markdown",
   "metadata": {},
   "source": [
    "# Set Cover problem\n",
    "\n",
    "See: https://en.wikipedia.org/wiki/Set_cover_problem"
   ]
  },
  {
   "cell_type": "code",
   "execution_count": 4,
   "metadata": {},
   "outputs": [],
   "source": [
    "from random import random, seed\n",
    "from itertools import product, accumulate\n",
    "import numpy as np\n",
    "from tqdm.auto import tqdm\n",
    "import matplotlib.pyplot as plt\n",
    "\n",
    "from icecream import ic"
   ]
  },
  {
   "cell_type": "markdown",
   "metadata": {},
   "source": [
    "## Reproducible Initialization\n",
    "\n",
    "If you want to get reproducible results, use `rng` (and restart the kernel); for non-reproducible ones, use `np.random`."
   ]
  },
  {
   "cell_type": "code",
   "execution_count": 4,
   "metadata": {},
   "outputs": [],
   "source": [
    "UNIVERSE_SIZE = 1000\n",
    "NUM_SETS = 100\n",
    "DENSITY = 0.2\n",
    "\n",
    "rng = np.random.Generator(np.random.PCG64([UNIVERSE_SIZE, NUM_SETS, int(10_000 * DENSITY)]))"
   ]
  },
  {
   "cell_type": "code",
   "execution_count": 101,
   "metadata": {},
   "outputs": [],
   "source": [
    "# DON'T EDIT THESE LINES!\n",
    "\n",
    "SETS = np.random.random((NUM_SETS, UNIVERSE_SIZE)) < DENSITY\n",
    "for s in range(UNIVERSE_SIZE):\n",
    "    if not np.any(SETS[:, s]):\n",
    "        SETS[np.random.randint(NUM_SETS), s] = True\n",
    "COSTS = np.pow(SETS.sum(axis=1), 1.1)"
   ]
  },
  {
   "cell_type": "markdown",
   "metadata": {},
   "source": [
    "## Instances generation"
   ]
  },
  {
   "cell_type": "markdown",
   "metadata": {},
   "source": [
    "### Data"
   ]
  },
  {
   "cell_type": "code",
   "execution_count": 102,
   "metadata": {},
   "outputs": [],
   "source": [
    "universe_sizes = [100, 1000, 10_000, 100_000, 100_000, 100_000]\n",
    "num_sets_sizes = [10, 100, 1000, 10_000, 10_000, 10_000]\n",
    "densities = [.2, .2, .2, .1, .2, .3]\n",
    "\n",
    "INIT_SOL_TH = 1"
   ]
  },
  {
   "cell_type": "markdown",
   "metadata": {},
   "source": [
    "## Helper Functions"
   ]
  },
  {
   "cell_type": "code",
   "execution_count": 104,
   "metadata": {},
   "outputs": [],
   "source": [
    "def valid(sets, solution):\n",
    "    \"\"\"Checks wether solution is valid (ie. covers all universe)\"\"\"\n",
    "    phenotype = np.logical_or.reduce(sets[solution])     # at least each element covered by a set\n",
    "    return np.all(phenotype)                             # all elements are covered\n",
    "\n",
    "def coverage(sets, solution):\n",
    "    \"\"\"Returns the number of covered elements in the universe\"\"\"\n",
    "    phenotype = np.logical_or.reduce(sets[solution])    # at least each element covered by a set\n",
    "    return np.sum(phenotype)                            # number of covered elements    \n",
    "\n",
    "def cost(costs, solution):\n",
    "    \"\"\"Returns the cost of a solution (to be minimized)\"\"\"\n",
    "    return costs[solution].sum()\n",
    "\n",
    "def fitness(sets: np.ndarray, costs: np.ndarray, solution: np.ndarray):\n",
    "    \"\"\"Returns the fitness of the given solution\"\"\"\n",
    "    return (coverage(sets, solution), -cost(costs, solution))"
   ]
  },
  {
   "cell_type": "code",
   "execution_count": 105,
   "metadata": {},
   "outputs": [],
   "source": [
    "def single_mutation(solution: np.ndarray):\n",
    "    pos = rng.integers(0, solution.shape[0])\n",
    "    solution[pos] = not solution[pos]\n",
    "    return solution\n",
    "\n",
    "def multiple_mutation(solution: np.ndarray):\n",
    "    mask = rng.random(solution.shape[0]) < 0.99\n",
    "    new_solution = np.logical_xor(mask, solution)\n",
    "    return new_solution\n",
    "\n",
    "def multiple_mutation_strength(solution: np.ndarray, strength: float = 0.3) -> np.ndarray:\n",
    "    mask = rng.random(solution.shape[0]) < strength\n",
    "    if not np.any(mask):\n",
    "        mask[np.random.randint(solution.shape[0])] = True\n",
    "        \n",
    "    new_sol = np.logical_xor(solution, mask)\n",
    "    \n",
    "    return new_sol"
   ]
  },
  {
   "cell_type": "markdown",
   "metadata": {},
   "source": [
    "### RM hill climbing with single mutation"
   ]
  },
  {
   "cell_type": "code",
   "execution_count": 106,
   "metadata": {},
   "outputs": [],
   "source": [
    "def solve_single_mutation_HC(sets, costs, num_sets, num_steps=10_000, th=INIT_SOL_TH):\n",
    "    \n",
    "    history = []\n",
    "    solution = rng.random(num_sets) < INIT_SOL_TH\n",
    "    sol_fitness = fitness(sets, costs, solution)\n",
    "\n",
    "    print(f\"Initial fitness: {sol_fitness}\")\n",
    "\n",
    "    history.append(float(sol_fitness[1]))\n",
    "    for _ in tqdm(range(num_steps)):\n",
    "        current = single_mutation(solution.copy())\n",
    "        curr_fitness = fitness(sets, costs, current)\n",
    "        \n",
    "        #print(curr_fitness, sol_fitness)\n",
    "        \n",
    "        history.append(float(curr_fitness[1]))\n",
    "        if curr_fitness > sol_fitness:\n",
    "            solution = current\n",
    "            sol_fitness = curr_fitness\n",
    "\n",
    "    print(f\"Final fitness: {sol_fitness}\")\n",
    "    print(f\"Last update at iteration {history.index(float(sol_fitness[1]))}\")\n",
    "\n",
    "    plt.figure(figsize=(14, 8))\n",
    "    plt.plot(\n",
    "        range(len(history)),\n",
    "        list(accumulate(history, max)),\n",
    "        color=\"red\",\n",
    "    )\n",
    "    _ = plt.scatter(range(len(history)), history, marker=\".\")\n",
    "    \n",
    "    return sol_fitness"
   ]
  },
  {
   "cell_type": "markdown",
   "metadata": {},
   "source": [
    "### RM hill climbing with multiple mutation"
   ]
  },
  {
   "cell_type": "code",
   "execution_count": 107,
   "metadata": {},
   "outputs": [],
   "source": [
    "def solve_multiple_mutation_HC(sets, costs, num_sets, num_steps=10_000, th=INIT_SOL_TH):\n",
    "    history = []\n",
    "    solution = rng.random(num_sets) < th\n",
    "    sol_fitness = fitness(sets, costs, solution)\n",
    "\n",
    "    print(f\"Initial fitness: {sol_fitness}\")\n",
    "\n",
    "    history.append(sol_fitness[1])\n",
    "    for _ in tqdm(range(num_steps)):\n",
    "        current = single_mutation(solution.copy())\n",
    "        curr_fitness = fitness(sets, costs, current)\n",
    "        \n",
    "        #print(curr_fitness, sol_fitness)\n",
    "        \n",
    "        history.append(curr_fitness[1])\n",
    "        if curr_fitness > sol_fitness:\n",
    "            solution = current\n",
    "            sol_fitness = curr_fitness\n",
    "\n",
    "    print(f\"Final fitness: {sol_fitness}\")\n",
    "    print(f\"Last update at iteration {history.index(float(sol_fitness[1]))}\")\n",
    "\n",
    "    plt.figure(figsize=(14, 8))\n",
    "    plt.plot(\n",
    "        range(len(history)),\n",
    "        list(accumulate(history, max)),\n",
    "        color=\"red\",\n",
    "    )\n",
    "    plt.scatter(range(len(history)), history, marker=\".\")\n",
    "    \n",
    "    return sol_fitness"
   ]
  },
  {
   "cell_type": "markdown",
   "metadata": {},
   "source": [
    "### Simulated annealing\n",
    "It seems to perform worst than a RMHC: too much going around and not exploit neighboring solutions."
   ]
  },
  {
   "cell_type": "code",
   "execution_count": 108,
   "metadata": {},
   "outputs": [],
   "source": [
    "def solve_simulated_annealing_HC(sets, costs, num_sets, num_steps=10_000, th=INIT_SOL_TH):\n",
    "    \n",
    "    def complete(covered):\n",
    "        return covered == sets.shape[1]\n",
    "    \n",
    "    history = []\n",
    "    solution = rng.random(num_sets) < th\n",
    "    sol_fitness = fitness(sets, costs, solution)\n",
    "    final_sol_fitness = sol_fitness\n",
    "\n",
    "    print(f\"Initial fitness: {sol_fitness}\")\n",
    "\n",
    "    history.append(sol_fitness[1])\n",
    "    for i in tqdm(range(num_steps)):\n",
    "        current = multiple_mutation(solution.copy())      # using single mutation to avoid too much exploration\n",
    "        curr_fitness = fitness(sets, costs, current)\n",
    "        \n",
    "        # Exploring when high coverage, exploiting otherwise\n",
    "        # Min temperature set to 1 to avoid numerical issues in scalar power\n",
    "        temperature = max(1, 10 * (sol_fitness[0] / sets.shape[1]) + 0.01)\n",
    "        \n",
    "        history.append(curr_fitness[1])\n",
    "        \n",
    "        logp = (curr_fitness[1] - sol_fitness[1]) / temperature + 1e-6\n",
    "            \n",
    "        if curr_fitness < sol_fitness and np.log(rng.random() + 1e-6) < logp or curr_fitness > sol_fitness:\n",
    "            \n",
    "            if curr_fitness > final_sol_fitness and complete(curr_fitness[0]):\n",
    "                final_sol_fitness = curr_fitness\n",
    "            \n",
    "            sol_fitness = curr_fitness\n",
    "            solution = current\n",
    "\n",
    "    print(f\"Final fitness: {final_sol_fitness}\")\n",
    "    print(f\"Last update at iteration {history.index(final_sol_fitness[1])}\")\n",
    "\n",
    "    plt.figure(figsize=(14, 8))\n",
    "    plt.plot(\n",
    "        range(len(history)),\n",
    "        list(accumulate(history, max)),\n",
    "        color=\"red\",\n",
    "    )\n",
    "    plt.scatter(range(len(history)), history, marker=\".\", color=\"blue\")\n",
    "    \n",
    "    return final_sol_fitness"
   ]
  },
  {
   "cell_type": "markdown",
   "metadata": {},
   "source": [
    "### Simulated annealing with linear self-adaption\n",
    "Simulated annealing approach but with linear self-adaption. The parameter *strength*, that acts as *temperature*, is increased (or decreased) by a 20% factor, depending on the success of at least one trial out of last five ones."
   ]
  },
  {
   "cell_type": "code",
   "execution_count": 109,
   "metadata": {},
   "outputs": [],
   "source": [
    "def solve_linear_SAHC(sets, costs, num_sets, num_steps=10_000, buf_size=5):\n",
    "    history = []\n",
    "    buffer = []\n",
    "    solution = np.full(num_sets, True)\n",
    "    sol_fitness = fitness(sets, costs, solution)\n",
    "\n",
    "    ic(sol_fitness)\n",
    "    history.append(float(sol_fitness[1]))\n",
    "\n",
    "    strength = 0.5\n",
    "\n",
    "    for steps in tqdm(range(num_steps)):\n",
    "        \n",
    "        new_sol = multiple_mutation_strength(solution, strength)\n",
    "        new_sol_fitness = fitness(sets, costs, new_sol)\n",
    "        \n",
    "        history.append(float(new_sol_fitness[1]))\n",
    "        \n",
    "        buffer.append(new_sol_fitness > sol_fitness)\n",
    "        buffer = buffer[-buf_size: ]\n",
    "        \n",
    "        if sum(buffer) > 1:\n",
    "            strength *= 1.2\n",
    "            \n",
    "        elif sum(buffer) == 0:\n",
    "            strength /= 1.2\n",
    "        \n",
    "        if new_sol_fitness > sol_fitness:\n",
    "            solution = new_sol\n",
    "            sol_fitness = fitness(sets, costs, solution)\n",
    "            \n",
    "    ic(sol_fitness)\n",
    "    ic(history.index(sol_fitness[1]))\n",
    "\n",
    "    plt.figure(figsize=(14, 8))\n",
    "    plt.plot(\n",
    "        range(len(history)),\n",
    "        list(accumulate(history, max)),\n",
    "        color=\"red\",\n",
    "    )\n",
    "    plt.scatter(range(len(history)), history, marker=\".\")\n",
    "    \n",
    "    return sol_fitness"
   ]
  },
  {
   "cell_type": "markdown",
   "metadata": {},
   "source": [
    "### Tabu search\n",
    "It uses a simulated annealing hill climber, but with discarding tweaked solution with a coverage under 80% on the universe. In this way, too much exploration in discouraged."
   ]
  },
  {
   "cell_type": "code",
   "execution_count": 110,
   "metadata": {},
   "outputs": [],
   "source": [
    "def solve_tabu_search_SAHC(sets, costs, num_sets, num_steps=10_000, th=INIT_SOL_TH):\n",
    "    \n",
    "    def complete(covered):\n",
    "        return covered == sets.shape[1]\n",
    "    \n",
    "    NUM_CANDIDATES = 10\n",
    "    history = []\n",
    "    solution = rng.random(num_sets) < th\n",
    "    sol_fitness = fitness(sets, costs, solution)\n",
    "    final_sol_fitness = sol_fitness\n",
    "\n",
    "    print(f\"Initial fitness: {sol_fitness}\")\n",
    "\n",
    "    history.append(sol_fitness[1])\n",
    "    for i in tqdm(range(num_steps)):\n",
    "        tmp = [single_mutation(solution.copy()) for _ in range(NUM_CANDIDATES)]\n",
    "        candidates = [sol for sol in tmp if coverage(sets, sol) / sets.shape[1] > 0.8]\n",
    "        \n",
    "        for current in candidates:\n",
    "            curr_fitness = fitness(sets, costs, current)\n",
    "            \n",
    "            # Exploring when high coverage, exploiting otherwise\n",
    "            # Min temperature set to 10 to avoid numerical issues in scalar power\n",
    "            temperature = max(1, 10 * (sol_fitness[0] / sets.shape[1]) + 0.01)\n",
    "            \n",
    "            history.append(curr_fitness[1])\n",
    "            logp = (curr_fitness[1] - sol_fitness[1]) / temperature + 1e-6\n",
    "            if curr_fitness < sol_fitness and np.log(rng.random()+1e-6) < logp or curr_fitness > sol_fitness:\n",
    "                \n",
    "                if curr_fitness > final_sol_fitness and complete(curr_fitness[0]):\n",
    "                    final_sol_fitness = curr_fitness\n",
    "                \n",
    "                sol_fitness = curr_fitness\n",
    "                solution = current\n",
    "\n",
    "    print(f\"Final fitness: {final_sol_fitness}\")\n",
    "    print(f\"Last update at iteration {history.index(final_sol_fitness[1])}\")\n",
    "\n",
    "    plt.figure(figsize=(14, 8))\n",
    "    plt.plot(\n",
    "        range(len(history)),\n",
    "        list(accumulate(history, max)),\n",
    "        color=\"red\",\n",
    "    )\n",
    "    plt.scatter(range(len(history)), history, marker=\".\", color=\"blue\")\n",
    "    \n",
    "    return final_sol_fitness"
   ]
  },
  {
   "cell_type": "markdown",
   "metadata": {},
   "source": [
    "## General solver\n",
    "Script to solve task with multiple strategies and perform comparisons"
   ]
  },
  {
   "cell_type": "code",
   "execution_count": 112,
   "metadata": {},
   "outputs": [],
   "source": [
    "class Strategies:\n",
    "    SINGLE_MUTATION_HC = \"Single mutation hill climber\"\n",
    "    MULTIPLE_MUTATION_HC = \"Multiple mutation hill climber\"\n",
    "    SIMULATED_ANNEALING_EXP = \"Simulated annealing hill climber - Exponential adaption\"\n",
    "    SIMULATED_ANNEALING_LINEAR = \"Simulated annealing hill climber - Linear adaption\"\n",
    "    TABU_SEARCH = \"Tabu search hill climber\"\n",
    "    GREEDY = \"Greedy\"\n",
    "    \n",
    "    def to_list():\n",
    "        return [\n",
    "            Strategies.SINGLE_MUTATION_HC,\n",
    "            Strategies.MULTIPLE_MUTATION_HC,\n",
    "            Strategies.SIMULATED_ANNEALING_EXP,\n",
    "            Strategies.SIMULATED_ANNEALING_LINEAR,\n",
    "            Strategies.TABU_SEARCH, \n",
    "            Strategies.GREEDY\n",
    "        ]\n",
    "\n",
    "def solve(sets: np.ndarray, costs: np.ndarray, strategy: str):\n",
    "    n = sets.shape[0]\n",
    "    u = sets.shape[1]\n",
    "    steps = int(min(10_000, max(n*u // 50, 100)))\n",
    "    th_start = 0.95 if n < 1000 else INIT_SOL_TH\n",
    "    match strategy:\n",
    "        case Strategies.SINGLE_MUTATION_HC:\n",
    "            return solve_single_mutation_HC(sets, costs, n, num_steps=steps)\n",
    "        case Strategies.MULTIPLE_MUTATION_HC:\n",
    "            return solve_multiple_mutation_HC(sets, costs, n, num_steps=steps)\n",
    "        case Strategies.SIMULATED_ANNEALING_EXP:\n",
    "            return solve_simulated_annealing_HC(sets, costs, n, num_steps=10_000)\n",
    "        case Strategies.SIMULATED_ANNEALING_LINEAR:\n",
    "            return solve_linear_SAHC(sets, costs, n)\n",
    "        case Strategies.TABU_SEARCH:\n",
    "            return solve_tabu_search_SAHC(sets, costs, n, num_steps=2000)\n",
    "        case Strategies.GREEDY:\n",
    "            return solve_greedy(sets, costs, n)"
   ]
  },
  {
   "cell_type": "code",
   "execution_count": null,
   "metadata": {},
   "outputs": [],
   "source": [
    "for (i, (universe_size, num_sets, density)) in list(enumerate(zip(universe_sizes, num_sets_sizes, densities)))[:3]:\n",
    "\n",
    "    print(f\"Generating instance {i+1}\")\n",
    "\n",
    "    SETS, COSTS = generate_data(universe_size, num_sets, density)\n",
    "\n",
    "    print(f\"Solving instance {i+1}\")\n",
    "    \n",
    "    fitnesses = {}\n",
    "    for strategy_name in Strategies.to_list():\n",
    "        fitnesses[strategy_name] = solve(SETS, COSTS, strategy_name)\n",
    "        plt.show()\n",
    "\n",
    "    for (strategy, fitness_val) in fitnesses.items():\n",
    "        print(f\"{strategy}: {fitness_val}\")"
   ]
  },
  {
   "cell_type": "markdown",
   "metadata": {},
   "source": [
    "## Definitive solution\n",
    "Speedup is required. Use a state of covered elements (analog of what done in greedy approach) to keep track of current coverage for each element in the universe.\n",
    "Using:\n",
    "- multiple mutation tweak\n",
    "- heuristic to limit research space\n",
    "- random start ?\n",
    "- simulated annealing with self-adaptive parameter ?"
   ]
  },
  {
   "cell_type": "markdown",
   "metadata": {},
   "source": [
    "### Data"
   ]
  },
  {
   "cell_type": "code",
   "execution_count": 12,
   "metadata": {},
   "outputs": [],
   "source": [
    "universe_sizes = [100, 1000, 10_000, 100_000, 100_000, 100_000]\n",
    "num_sets_sizes = [10, 100, 1000, 10_000, 10_000, 10_000]\n",
    "densities = [.2, .2, .2, .1, .2, .3]"
   ]
  },
  {
   "cell_type": "markdown",
   "metadata": {},
   "source": [
    "#### Generator function"
   ]
  },
  {
   "cell_type": "code",
   "execution_count": 13,
   "metadata": {},
   "outputs": [],
   "source": [
    "def generate_data(universe_size, num_sets, density):\n",
    "    SETS = np.random.random((num_sets, universe_size)) < density\n",
    "    for s in range(universe_size):\n",
    "        if not np.any(SETS[:, s]):\n",
    "            SETS[np.random.randint(num_sets), s] = True\n",
    "    COSTS = np.pow(SETS.sum(axis=1), 1.1)\n",
    "    \n",
    "    return SETS, COSTS"
   ]
  },
  {
   "cell_type": "markdown",
   "metadata": {},
   "source": [
    "### Helper functions"
   ]
  },
  {
   "cell_type": "code",
   "execution_count": 144,
   "metadata": {},
   "outputs": [],
   "source": [
    "def init_sol(sets: np.ndarray, dimension: int) -> np.ndarray:\n",
    "    #solution = np.full(dimension, True)\n",
    "    # solution = np.random.random(dimension) < 0.8\n",
    "    #zero_pos = np.argmax(sets.sum(axis=1))\n",
    "    #zero_pos = rng.integers(0, dimension)\n",
    "    #solution[zero_pos] = False\n",
    "    \n",
    "    less_covered_elem = np.argmin(sets.sum(axis=0))\n",
    "    solution = np.logical_not(sets[:, less_covered_elem])\n",
    "    \n",
    "    return solution\n",
    "\n",
    "def valid(sets, solution):\n",
    "    \"\"\"Checks wether solution is valid (ie. covers all universe)\"\"\"\n",
    "    phenotype = np.logical_or.reduce(sets[solution])     # at least each element covered by a set\n",
    "    return np.all(phenotype)                             # all elements are covered\n",
    "\n",
    "def coverage(sets, solution):\n",
    "    \"\"\"Returns the number of covered elements in the universe\"\"\"\n",
    "    phenotype = np.logical_or.reduce(sets[solution])    # at least each element covered by a set\n",
    "    return np.sum(phenotype)                            # number of covered elements    \n",
    "\n",
    "def cost(costs, solution):\n",
    "    \"\"\"Returns the cost of a solution (to be minimized)\"\"\"\n",
    "    return costs[solution].sum()\n",
    "\n",
    "def fitness(covering: np.ndarray, costs: np.ndarray, solution: np.ndarray):\n",
    "    \"\"\"Returns the fitness of the given solution\"\"\"\n",
    "    return (np.sum(covering > 0), -cost(costs, solution))\n",
    "\n",
    "# Based on Vincenzo Avantaggiato's version\n",
    "def tweak(solution: np.ndarray, covering: np.ndarray, sets: np.ndarray) -> np.ndarray:\n",
    "    \"\"\"Uses a single mutation method\"\"\"\n",
    "    \n",
    "    new_sol = solution.copy()\n",
    "    \n",
    "    index = np.random.randint(0, solution.shape[0])    \n",
    "    new_sol[index] = not new_sol[index]\n",
    "    \n",
    "    modification = 2*new_sol[index]-1\n",
    "    \n",
    "    # Rollbacks the modification (if it is a removal): not allowed to remove a set from the solution\n",
    "    # if its removal causes an element to become uncovered\n",
    "    if modification == -1 and np.sum(covering[sets[index]] <= 1):\n",
    "        return solution\n",
    "        \n",
    "    # Store the number of sets covering each element in the universe\n",
    "    covering += modification * sets[index]\n",
    "    \n",
    "    \"\"\"\n",
    "    mask = np.random.random(solution.shape[0])\n",
    "    \n",
    "    new_sol = np.logical_xor(solution, mask)\n",
    "    \n",
    "    # Get value of previous solutions whose value changed from 1 to 0\n",
    "    removed = np.logical_and(solution, mask)\n",
    "    \n",
    "    # Get value of previous solutions whose value changed from 0 to 1\n",
    "    added = np.logical_and(np.logical_not(solution), mask)\n",
    "    \n",
    "    removed_mask = np.sum(np.logical_and(sets, removed.reshape(removed.shape[0], 1)), axis=0)\n",
    "    \n",
    "    if np.any(np.sum(covering[removed_mask] <= 1, axis=0)):\n",
    "        return solution\n",
    "    \n",
    "    covering += np.sum(np.logical_and(sets, added.reshape(added.shape[0], 1)), axis=0)\n",
    "    covering -= removed_mask\n",
    "    \"\"\"\n",
    "    return new_sol"
   ]
  },
  {
   "cell_type": "code",
   "execution_count": 145,
   "metadata": {},
   "outputs": [],
   "source": [
    "def solve_set_cover(sets: np.ndarray, costs: np.ndarray, num_steps: int = 10_000, buf_size: int = 5, init_strength: float = 0.5):\n",
    "    \n",
    "    num_sets = sets.shape[0]\n",
    "    universe_size = sets.shape[1]\n",
    "    \n",
    "    solution = init_sol(sets, num_sets)\n",
    "    best_cov = np.sum(sets[solution], axis=0)\n",
    "    sol_fitness = fitness(best_cov, costs, solution)\n",
    "    history = [float(sol_fitness[1])]\n",
    "    \n",
    "    for _ in tqdm(range(num_steps)):\n",
    "        curr_cov = best_cov.copy()\n",
    "        current = tweak(solution.copy(), curr_cov, sets)\n",
    "        \n",
    "        curr_fitness = fitness(curr_cov, costs, current)\n",
    "        history.append(float(curr_fitness[1]))\n",
    "        \n",
    "        #ic(curr_fitness)\n",
    "        \n",
    "        if curr_fitness > sol_fitness:\n",
    "            sol_fitness = curr_fitness\n",
    "            solution = current\n",
    "            best_cov = curr_cov\n",
    "            \n",
    "    plt.figure(figsize=(14,8))\n",
    "    plt.plot(\n",
    "        range(len(history)),\n",
    "        list(accumulate(history, max)),\n",
    "        color=\"red\",\n",
    "    )\n",
    "    plt.scatter(range(len(history)), history, marker=\".\", color=\"blue\")\n",
    "    \n",
    "    ic(sol_fitness)\n",
    "    ic(history.index(float(sol_fitness[1])))\n",
    "    \n",
    "    #ic(np.sum(sets[solution],axis=1))\n",
    "    \n",
    "    return solution, sol_fitness\n",
    "    "
   ]
  },
  {
   "cell_type": "markdown",
   "metadata": {},
   "source": [
    "### Greedy approach\n",
    "For each iteration, we collect the set that covers the larger number of still uncovered elements. The iterations continue until complete universe coverage is reached."
   ]
  },
  {
   "cell_type": "code",
   "execution_count": 146,
   "metadata": {},
   "outputs": [],
   "source": [
    "def solve_greedy(sets: np.ndarray, costs: np.ndarray, num_sets) -> np.ndarray:\n",
    "    \n",
    "    solution = np.full(num_sets, False)\n",
    "    set_matrix = sets.copy()\n",
    "    covered = 0\n",
    "\n",
    "    while covered < set_matrix.shape[1]:\n",
    "        \n",
    "        progress = 100 * covered / set_matrix.shape[1]\n",
    "        print(float(progress), end=\" \")\n",
    "        \n",
    "        largest_index = np.argmax(set_matrix.sum(axis=1))\n",
    "        largest = set_matrix[largest_index, :]\n",
    "        solution[largest_index] = True\n",
    "        covered += largest.sum()\n",
    "        \n",
    "        # For each row of the matrix, set to False the corresponding column if the cell of the \"largest\" vector is True\n",
    "        # Given the vector corresponding to the coverings for the larger set (to collect),\n",
    "        # it removes all possible coverings for those elements covered by this set,\n",
    "        # in order to ignore them in next steps\n",
    "        set_matrix *= np.logical_not(largest)\n",
    "                \n",
    "    print()\n",
    "    \n",
    "    sol_fitness = fitness(np.sum(sets[solution], axis=0), costs, solution)\n",
    "    \n",
    "    return solution, sol_fitness"
   ]
  },
  {
   "cell_type": "markdown",
   "metadata": {},
   "source": [
    "#### Solver caller\n",
    "Calls solve function for each required instance. "
   ]
  },
  {
   "cell_type": "code",
   "execution_count": 147,
   "metadata": {},
   "outputs": [
    {
     "name": "stderr",
     "output_type": "stream",
     "text": [
      "ic| f\"Generating instance {i+1}\": 'Generating instance 1'\n",
      "ic| f\"Solving instance {i+1}\": 'Solving instance 1'\n"
     ]
    },
    {
     "data": {
      "application/vnd.jupyter.widget-view+json": {
       "model_id": "8c5bd4cf873f466b8b5e75d21f4b5efc",
       "version_major": 2,
       "version_minor": 0
      },
      "text/plain": [
       "  0%|          | 0/1000 [00:00<?, ?it/s]"
      ]
     },
     "metadata": {},
     "output_type": "display_data"
    },
    {
     "name": "stderr",
     "output_type": "stream",
     "text": [
      "ic| sol_fitness: (np.int64(100), np.float64(-263.57145602417734))\n",
      "ic| history.index(float(sol_fitness[1])): 6\n",
      "ic| sol_state: np.int64(100)\n",
      "    sol_fitness: np.float64(-263.57145602417734)\n",
      "ic| greedy_state: np.int64(100)\n",
      "    greedy_fitness: np.float64(-263.57145602417734)\n"
     ]
    },
    {
     "name": "stdout",
     "output_type": "stream",
     "text": [
      "0.0 30.0 51.0 65.0 75.0 83.0 89.0 94.0 96.0 98.0 \n"
     ]
    },
    {
     "data": {
      "image/png": "[encoded data removed]",
      "text/plain": [
       "<Figure size 1400x800 with 1 Axes>"
      ]
     },
     "metadata": {},
     "output_type": "display_data"
    }
   ],
   "source": [
    "NUM_INSTANCES = len(universe_sizes)\n",
    "\n",
    "# Useful for debugging\n",
    "MIN_INSTANCE = 1\n",
    "MAX_INSTANCE = NUM_INSTANCES\n",
    "\n",
    "for (i, (universe_size, num_sets, density)) in \\\n",
    "    list(enumerate(zip(universe_sizes, num_sets_sizes, densities))) [MIN_INSTANCE-1 : MAX_INSTANCE]:\n",
    "\n",
    "    ic(f\"Generating instance {i+1}\")\n",
    "\n",
    "    sets, costs = generate_data(universe_size, num_sets, density)\n",
    "    \n",
    "    num_steps = 100_000 if i > 2 else (10_000 if i == 2 else 1000)\n",
    "\n",
    "    ic(f\"Solving instance {i+1}\")\n",
    "    \n",
    "    solution, (sol_state, sol_fitness) = solve_set_cover(sets, costs, num_steps=num_steps)\n",
    "    greedy_sol, (greedy_state, greedy_fitness) = solve_greedy(sets, costs, num_sets)\n",
    "    \n",
    "    ic(sol_state, sol_fitness)\n",
    "    ic(greedy_state, greedy_fitness)\n",
    "    "
   ]
  }
 ],
 "metadata": {
  "kernelspec": {
   "display_name": "venv",
   "language": "python",
   "name": "python3"
  },
  "language_info": {
   "codemirror_mode": {
    "name": "ipython",
    "version": 3
   },
   "file_extension": ".py",
   "mimetype": "text/x-python",
   "name": "python",
   "nbconvert_exporter": "python",
   "pygments_lexer": "ipython3",
   "version": "3.11.8"
  }
 },
 "nbformat": 4,
 "nbformat_minor": 4
}
